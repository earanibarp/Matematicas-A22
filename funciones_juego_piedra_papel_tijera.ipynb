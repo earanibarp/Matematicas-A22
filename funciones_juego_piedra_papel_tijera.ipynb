{
  "nbformat": 4,
  "nbformat_minor": 0,
  "metadata": {
    "colab": {
      "provenance": []
    },
    "kernelspec": {
      "name": "python3",
      "display_name": "Python 3"
    },
    "language_info": {
      "name": "python"
    }
  },
  "cells": [
    {
      "cell_type": "code",
      "source": [
        "# @title Función sin parámetros\n",
        "def saludar(): # creación de la función\n",
        "  print(\"Hola mundo\")\n",
        "\n",
        "saludar() # invocación de la función "
      ],
      "metadata": {
        "colab": {
          "base_uri": "https://localhost:8080/"
        },
        "id": "YXwQ5Oy8HA-z",
        "outputId": "93871561-4999-4f9c-f18a-7c9ecd6c1fba"
      },
      "execution_count": 1,
      "outputs": [
        {
          "output_type": "stream",
          "name": "stdout",
          "text": [
            "Hola mundo\n"
          ]
        }
      ]
    },
    {
      "cell_type": "code",
      "source": [
        "# @title Función con un parámetro\n",
        "def saludar(nombre):\n",
        "  print(f\"Hola {nombre}\")\n",
        "\n",
        "saludar(\"César\")"
      ],
      "metadata": {
        "colab": {
          "base_uri": "https://localhost:8080/"
        },
        "id": "y6NTi6RtHVTa",
        "outputId": "200b24b9-9519-425f-c711-35f98304b320"
      },
      "execution_count": 3,
      "outputs": [
        {
          "output_type": "stream",
          "name": "stdout",
          "text": [
            "Hola César\n"
          ]
        }
      ]
    },
    {
      "cell_type": "code",
      "source": [
        "# @title Función con retorno\n",
        "def sumar(num1, num2):\n",
        "  res = num1 + num2 #creación de una nueva variable para almacenar la suma de dos números\n",
        "  return res \n",
        "\n",
        "sumar(5,7)\n",
        "\n",
        "a = int(input(\"Ingresa el primer número: \"))\n",
        "b = int(input(\"Ingresa el primer número: \"))\n",
        "\n",
        "sumar(a,b)"
      ],
      "metadata": {
        "colab": {
          "base_uri": "https://localhost:8080/"
        },
        "id": "CTjCZkDCIhlb",
        "outputId": "30ab5a5c-1375-4d3c-fb36-2a131b87ca5c"
      },
      "execution_count": 7,
      "outputs": [
        {
          "name": "stdout",
          "output_type": "stream",
          "text": [
            "Ingresa el primer número: 8\n",
            "Ingresa el primer número: 6\n"
          ]
        },
        {
          "output_type": "execute_result",
          "data": {
            "text/plain": [
              "14"
            ]
          },
          "metadata": {},
          "execution_count": 7
        }
      ]
    },
    {
      "cell_type": "code",
      "execution_count": 9,
      "metadata": {
        "colab": {
          "base_uri": "https://localhost:8080/"
        },
        "id": "fAvg1tzmnsFi",
        "outputId": "f49935cf-d62b-418a-b4b8-d7a91fc3cb9d"
      },
      "outputs": [
        {
          "output_type": "stream",
          "name": "stdout",
          "text": [
            "\n",
            "Escoge una opción:\n",
            "1) Piedra\n",
            "2) Papel\n",
            "3) Tijera\n",
            "\n",
            "3\n",
            "\n",
            "Tú eliges:  Tijera\n",
            "\n",
            "PC elige:  Piedra\n",
            "\n",
            "Pc Gana\n"
          ]
        }
      ],
      "source": [
        "# @title Juego piedra, papel o tijera\n",
        "import random\n",
        "\n",
        "def jugar(jugada):\n",
        "  if jugada == 1:\n",
        "    rpta = \"Piedra\"\n",
        "  elif jugada == 2:\n",
        "    rpta = \"Papel\"\n",
        "  elif jugada == 3:\n",
        "    rpta = \"Tijera\"\n",
        "  else:\n",
        "    rpta = \"Opción incorrecta\"\n",
        "  return rpta\n",
        "\n",
        "jugador = int(input(\"\"\"\n",
        "Escoge una opción:\n",
        "1) Piedra\n",
        "2) Papel\n",
        "3) Tijera\\n\n",
        "\"\"\"))\n",
        "\n",
        "pc = random.randint(1,3)\n",
        "\n",
        "print(\"\\nTú eliges: \", jugar(jugador))\n",
        "print(\"\\nPC elige: \", jugar(pc))\n",
        "\n",
        "if jugador == pc:\n",
        "  print(\"\\nEmpate\")\n",
        "elif jugador == 1 and pc == 3:\n",
        "  print(\"\\nGanaste\")\n",
        "elif jugador == 2 and pc == 1:\n",
        "  print(\"\\nGanaste\")\n",
        "elif jugador == 3 and pc == 2:\n",
        "  print(\"\\nGanaste\")\n",
        "else:\n",
        "  print(\"\\nPc Gana\")"
      ]
    }
  ]
}