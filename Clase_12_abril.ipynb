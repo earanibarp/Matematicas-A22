{
  "nbformat": 4,
  "nbformat_minor": 0,
  "metadata": {
    "colab": {
      "provenance": []
    },
    "kernelspec": {
      "name": "python3",
      "display_name": "Python 3"
    },
    "language_info": {
      "name": "python"
    }
  },
  "cells": [
    {
      "cell_type": "code",
      "source": [
        "# Pedir al usuario un número e indicar si el numero es positivo o negativo\n",
        "numero = int(input(\"Ingresa un número: \"))\n",
        "\n",
        "if numero < 0:\n",
        "  print(f\"El número {numero} es negativo.\")\n",
        "else:\n",
        "  print(f\"El número {numero} es positivo.\")"
      ],
      "metadata": {
        "colab": {
          "base_uri": "https://localhost:8080/"
        },
        "id": "9T3nHbMXcpBk",
        "outputId": "f0c9624d-1941-4154-d511-e4e6b8e6205a"
      },
      "execution_count": null,
      "outputs": [
        {
          "output_type": "stream",
          "name": "stdout",
          "text": [
            "Ingresa un número: -2\n",
            "El número -2 es negativo.\n"
          ]
        }
      ]
    },
    {
      "cell_type": "markdown",
      "source": [
        "Operadores de comparación\n",
        "- **==** : igualdad\n",
        "- **>=** : mayor o igual que\n",
        "- **<=** : menor o igual que\n",
        "- **!=** : diferente de "
      ],
      "metadata": {
        "id": "qLO0ZmR9frmD"
      }
    },
    {
      "cell_type": "code",
      "source": [
        "\"\"\"\n",
        "Efectivo -> 0% dscto\n",
        "Tarjeta -> 5% dscto\n",
        "Billetera digital -> 10% dscto\n",
        "\"\"\"\n",
        "\n",
        "pago = input(\"Ingresa el tipo de pago\")\n",
        "if pago == \"Efectivo\":\n",
        "  print(\"Tienes un dscto de 0%\")\n",
        "else:\n",
        "  if pago == \"Tarjeta\":\n",
        "    print(\"Tienes un dscto de 5%\")\n",
        "  else:\n",
        "    print(\"Tienes un dscto de 10%\")"
      ],
      "metadata": {
        "id": "PcnE2qXdfSy9"
      },
      "execution_count": null,
      "outputs": []
    },
    {
      "cell_type": "code",
      "source": [
        "#Pedir un número e indicar si es par o impar\n",
        "numero = int(input(\"Ingresa un número: \"))\n",
        "\n",
        "if numero % 2 == 0:\n",
        "  print(f\"El número {numero} es par\")\n",
        "else:\n",
        "  print(f\"El número {numero} es impar\")"
      ],
      "metadata": {
        "id": "KshBiEoWikHp"
      },
      "execution_count": null,
      "outputs": []
    },
    {
      "cell_type": "code",
      "source": [
        "# Pedir la edad del usuario e indicar si es mayor o menor de edad (la edad no puede ser negativa)\n",
        "edad = int(input(\"Ingresa un número: \"))\n",
        "\n",
        "if edad >= 18:\n",
        "  print(\"Eres mayor de edad\")\n",
        "else:\n",
        "  if edad < 0:\n",
        "    print(\"Tu edad no puede ser negativa\")\n",
        "  else:\n",
        "    print(\"Eres menor de edad\")\n"
      ],
      "metadata": {
        "id": "lRpM2oMokTzw"
      },
      "execution_count": null,
      "outputs": []
    },
    {
      "cell_type": "markdown",
      "source": [
        "## Bucles"
      ],
      "metadata": {
        "id": "ED78oPeWo7FG"
      }
    },
    {
      "cell_type": "code",
      "source": [
        "# for\n",
        "\n",
        "for i in range(1,5):\n",
        "  print(f\"Hola, esta es la iteración {i}\")"
      ],
      "metadata": {
        "colab": {
          "base_uri": "https://localhost:8080/"
        },
        "id": "9UYRfiESo6on",
        "outputId": "a0334af9-3627-4c14-8fa2-c6fc818d0d08"
      },
      "execution_count": null,
      "outputs": [
        {
          "output_type": "stream",
          "name": "stdout",
          "text": [
            "Hola, esta es la iteración 1\n",
            "Hola, esta es la iteración 2\n",
            "Hola, esta es la iteración 3\n",
            "Hola, esta es la iteración 4\n"
          ]
        }
      ]
    },
    {
      "cell_type": "code",
      "source": [
        "#while\n",
        "i = 1\n",
        "while i<=10:\n",
        "  print(i)\n",
        "  i += 1 # i = i + 1  "
      ],
      "metadata": {
        "colab": {
          "base_uri": "https://localhost:8080/"
        },
        "id": "j0pMlYaTqL9q",
        "outputId": "22abe3d8-1a2c-49a7-ad9f-3a88109fbf9b"
      },
      "execution_count": null,
      "outputs": [
        {
          "output_type": "stream",
          "name": "stdout",
          "text": [
            "1\n",
            "2\n",
            "3\n",
            "4\n",
            "5\n",
            "6\n",
            "7\n",
            "8\n",
            "9\n",
            "10\n"
          ]
        }
      ]
    },
    {
      "cell_type": "markdown",
      "source": [
        "## Lista"
      ],
      "metadata": {
        "id": "vlfEDqTgxTeb"
      }
    },
    {
      "cell_type": "code",
      "source": [
        "lista = [4, 2.0, \"Hola\", True]\n",
        "print(lista)\n",
        "\n",
        "lista.append(\"Fernando\") #inserta un elemento al final de lista\n",
        "print(lista)\n",
        "lista.insert(0, False) #insertar elemento en una posicion indicada\n",
        "print(lista)\n",
        "\n",
        "del lista[4] #eliminar un elemento desde su posición\n",
        "print(lista)\n",
        "\n",
        "print(lista.pop(4))\n",
        "print(lista)\n",
        "\n",
        "lista.remove(\"Hola\")\n",
        "print(lista)\n",
        "\n",
        "lista.index(4) # sirve para saber la posición de un elemento\n",
        "\n",
        "lista[0] = \"Hola\" # modificar un elemento de la lista\n",
        "print(lista)\n",
        "\n"
      ],
      "metadata": {
        "colab": {
          "base_uri": "https://localhost:8080/"
        },
        "id": "Ckl4TgQbxVML",
        "outputId": "3b580850-a833-4413-92f4-24c7c351cdf3"
      },
      "execution_count": null,
      "outputs": [
        {
          "output_type": "stream",
          "name": "stdout",
          "text": [
            "[4, 2.0, 'Hola', True]\n",
            "[4, 2.0, 'Hola', True, 'Fernando']\n",
            "[False, 4, 2.0, 'Hola', True, 'Fernando']\n",
            "[False, 4, 2.0, 'Hola', 'Fernando']\n",
            "Fernando\n",
            "[False, 4, 2.0, 'Hola']\n",
            "[False, 4, 2.0]\n",
            "['Hola', 4, 2.0]\n"
          ]
        }
      ]
    },
    {
      "cell_type": "markdown",
      "source": [
        "## Tuplas"
      ],
      "metadata": {
        "id": "GsOPlo_u1aRt"
      }
    },
    {
      "cell_type": "code",
      "source": [
        "tupla = (\"Arequipa\", \"Lima\", \"La Libertad\")\n",
        "print(tupla.count(\"Arequipa\")) #contar cuántas veces se repite un elemento\n",
        "print(tupla.index(\"Arequipa\"))"
      ],
      "metadata": {
        "colab": {
          "base_uri": "https://localhost:8080/"
        },
        "id": "utF5NRwD1cMq",
        "outputId": "e258fa45-d920-4195-a165-c391dcf68d5c"
      },
      "execution_count": null,
      "outputs": [
        {
          "output_type": "stream",
          "name": "stdout",
          "text": [
            "1\n",
            "0\n"
          ]
        }
      ]
    },
    {
      "cell_type": "markdown",
      "source": [
        "## Diccionario"
      ],
      "metadata": {
        "id": "EM7yEaj32khg"
      }
    },
    {
      "cell_type": "code",
      "source": [
        "diccionario = {\n",
        "  \"perro\": 50,\n",
        "  \"gato\": 60  \n",
        "}\n",
        "\n",
        "print(diccionario)\n",
        "print(diccionario.keys())\n",
        "print(diccionario.values())\n",
        "diccionario.get(\"perro\")\n",
        "print(diccionario[\"perro\"])\n",
        "\n",
        "diccionario[\"cerdo\"] = 120 #sirve para añadir o modificar un elemento\n",
        "diccionario[\"perro\"] = \"doggy\"\n",
        "print(diccionario)\n",
        "\n",
        "del(diccionario[\"perro\"]) # eliminar un elemento del diccionario, se elimina por su clave\n",
        "print(diccionario)\n",
        "\n",
        "diccionario[\"gato\"] += 20\n",
        "print(diccionario)"
      ],
      "metadata": {
        "colab": {
          "base_uri": "https://localhost:8080/"
        },
        "id": "XVDZeLB42gH6",
        "outputId": "2b4888d0-0bb6-4050-f78f-66ad040bd62a"
      },
      "execution_count": null,
      "outputs": [
        {
          "output_type": "stream",
          "name": "stdout",
          "text": [
            "{'perro': 50, 'gato': 60}\n",
            "dict_keys(['perro', 'gato'])\n",
            "dict_values([50, 60])\n",
            "50\n",
            "{'perro': 'doggy', 'gato': 60, 'cerdo': 120}\n",
            "{'gato': 60, 'cerdo': 120}\n",
            "{'gato': 80, 'cerdo': 120}\n"
          ]
        }
      ]
    },
    {
      "cell_type": "code",
      "source": [
        "print(\"\"\"\n",
        "Selecciona una opción:\n",
        "1- Sumar\n",
        "2- Restar\n",
        "\"\"\")\n",
        "opc = int(input())\n",
        "numero1 = int(input(\"Ingresa el primer numero\"))\n",
        "numero2 = int(input(\"Ingresa el segundo numero\"))\n",
        "\n",
        "if opc == 1:\n",
        "  suma = numero1 + numero2\n",
        "  print(f\"La suma de {numero1} y {numero2} es: {suma}\")\n",
        "else: \n"
      ],
      "metadata": {
        "colab": {
          "base_uri": "https://localhost:8080/"
        },
        "id": "ecsUOlVs7dS_",
        "outputId": "7d19b698-2621-455e-c87a-e41b3aac189b"
      },
      "execution_count": null,
      "outputs": [
        {
          "output_type": "stream",
          "name": "stdout",
          "text": [
            "\n",
            "Selecciona una opción:\n",
            "1- Sumar\n",
            "2- Restar\n",
            "\n",
            "1\n",
            "Ingresa el primer numero5\n",
            "Ingresa el segundo numero3\n",
            "La suma de 5 y 3 es: 8\n"
          ]
        }
      ]
    }
  ]
}