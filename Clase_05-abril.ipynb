{
 "cells": [
  {
   "attachments": {},
   "cell_type": "markdown",
   "metadata": {},
   "source": [
    "# Título 1\n",
    "## Título 2 \n",
    "### Título 3"
   ]
  },
  {
   "attachments": {},
   "cell_type": "markdown",
   "metadata": {},
   "source": [
    "- Elemento 1\n",
    "- Elemento 2\n",
    "    - Elemento 2.1\n",
    "    - Elemento 2.2\n",
    "        - Elemento 2.2.1\n",
    "        - Elemento 2.2.2\n",
    "\n",
    "1. Elemento 1\n",
    "2. Elemento 2\n",
    "3. Elemento 3"
   ]
  },
  {
   "attachments": {},
   "cell_type": "markdown",
   "metadata": {},
   "source": [
    "## Texto en negrita\n",
    "\n",
    "**Lorem Ipsum** is simply dummy text of the __printing__ and <b>typesetting</b> industry. Lorem Ipsum has been the industry's standard dummy text ever since the 1500s, when an unknown printer took a galley of type and scrambled it to make a type specimen book. It has survived not only five centuries, but also the leap into electronic typesetting, remaining essentially unchanged. It was popularised in the 1960s with the release of Letraset sheets containing Lorem Ipsum passages, and more recently with desktop publishing software like Aldus PageMaker including versions of Lorem Ipsum."
   ]
  },
  {
   "attachments": {},
   "cell_type": "markdown",
   "metadata": {},
   "source": [
    "## Texto en cursiva\n",
    "___________________________________________\n",
    "*Lorem Ipsum* is simply dummy text of the _printing_ and <i>typesetting</i> industry. Lorem Ipsum has been the industry's standard dummy text ever since the 1500s, when an unknown printer took a galley of type and scrambled it to make a type specimen book. It has survived not only five centuries, but also the leap into electronic typesetting, remaining essentially unchanged. It was popularised in the 1960s with the release of Letraset sheets containing Lorem Ipsum passages, and more recently with desktop publishing software like Aldus PageMaker including versions of Lorem Ipsum.\n",
    "\n",
    "*Texto__ en negrita y cursiva*__\n",
    "\n",
    "### Hipervínculo\n",
    "______________________________________________________________________\n",
    "[Ver más](https://www.lipsum.com/)\n",
    "\n",
    "\n",
    "### Imágenes\n",
    "________________________________________________________________________\n",
    "![Nombre de la imagen](https://i0.wp.com/www.silocreativo.com/wp-content/uploads/2015/04/5-bancos-imagenes-gratuitas.png?fit=666%2C370&quality=100&strip=all&ssl=1)\n",
    "\n",
    "<img src=\"https://i0.wp.com/www.silocreativo.com/wp-content/uploads/2015/04/5-bancos-imagenes-gratuitas.png?fit=666%2C370&quality=100&strip=all&ssl=1\" width=\"350\" height=\"200\">"
   ]
  },
  {
   "attachments": {},
   "cell_type": "markdown",
   "metadata": {},
   "source": [
    "# **Python**\n",
    "_________________________________"
   ]
  },
  {
   "cell_type": "code",
   "execution_count": 4,
   "metadata": {},
   "outputs": [
    {
     "name": "stdout",
     "output_type": "stream",
     "text": [
      "¡Hola Mundo!\n"
     ]
    }
   ],
   "source": [
    "# Comentario\n",
    "\"\"\"Esto\n",
    "es\n",
    "un \n",
    "comentario\n",
    "multilínea\"\"\"\n",
    "\n",
    "print(\"¡Hola Mundo!\")"
   ]
  },
  {
   "attachments": {},
   "cell_type": "markdown",
   "metadata": {},
   "source": [
    "Variables"
   ]
  },
  {
   "cell_type": "code",
   "execution_count": 12,
   "metadata": {},
   "outputs": [
    {
     "name": "stdout",
     "output_type": "stream",
     "text": [
      "20.5\n"
     ]
    },
    {
     "data": {
      "text/plain": [
       "float"
      ]
     },
     "execution_count": 12,
     "metadata": {},
     "output_type": "execute_result"
    }
   ],
   "source": [
    "# Una variable es un espacio de memoria en que podemos guardar datos\n",
    "# Una variable se crea cuando asignamos algo a algo\n",
    "# Las variables se pueden reasignar\n",
    "\n",
    "saldo = 20 # Entero->int\n",
    "saldo = True # Boleano->bool\n",
    "saldo = \"Hola\" # String->str\n",
    "saldo = 20.5 # Flotante->float\n",
    "\n",
    "print(saldo)\n",
    "# #Para ver qué tipo de dato almacena mi variable\n",
    "type(saldo)"
   ]
  },
  {
   "attachments": {},
   "cell_type": "markdown",
   "metadata": {},
   "source": [
    "Identificadores válidos e inválidos para variables\n",
    "\n",
    "|identificador||explicación|\n",
    "|:--|:-:|:--|\n",
    "|```precio_unitario```|✅|[*snake case*](https://en.wikipedia.org/wiki/Snake_case)|\n",
    "|```precioUnitario```|✅|[*lowerCamelCase*](https://en.wikipedia.org/wiki/Camel_case)|\n",
    "|```PrecioUnitario```|✅|[*UpperCamelCase*](https://es.wikipedia.org/wiki/Camel_case)|\n",
    "|```__main__```|✅|[*dunder*](https://dbader.org/blog/meaning-of-underscores-in-python) son especiales|\n",
    "|```_Suma```|✅|empieza por ```_```|\n",
    "|```valor_mes_12```|✅|*snake case*|\n",
    "|```valorMes12```|✅|*lowerCamelCase*|\n",
    "|```CostoMarginal```|✅|*UpperCamelCase*|\n",
    "|```COLOR```|✅|empieza por mayúscula|\n",
    "|```idx901123```|✅|empieza por minúscula|\n",
    "|```12meses```|❌|empieza por número|\n",
    "|```valor-mensual```|❌|tiene un guión ```-```|\n",
    "|```precio final```|❌|tiene espacios|\n",
    "|```global```|❌|es una palabra reservada|\n",
    "|```800ton```|❌|empieza por número|\n",
    "|```saldo+actual```|❌|tiene un operador ```+```|\n",
    "|```total del año```|❌|tiene espacios|\n",
    "|```km/h```|❌|tiene un operador ```/```|"
   ]
  },
  {
   "cell_type": "code",
   "execution_count": 22,
   "metadata": {},
   "outputs": [
    {
     "name": "stdout",
     "output_type": "stream",
     "text": [
      "Hola edwin \n",
      " edwin Aranibar."
     ]
    }
   ],
   "source": [
    "# Ejercicio 1: Crear 2 variables en las cuales se guardará el nombre y apellido e imprimir un saludo.\n",
    "nombre = \"edwin\"\n",
    "apellido = \"Aranibar\"\n",
    "print(\"Hola\", nombre, \"\\n\", nombre, apellido, sep=\" \", end=\".\")"
   ]
  },
  {
   "attachments": {},
   "cell_type": "markdown",
   "metadata": {},
   "source": [
    "Métodos\n",
    "__________________________________________"
   ]
  },
  {
   "cell_type": "code",
   "execution_count": 24,
   "metadata": {},
   "outputs": [
    {
     "data": {
      "text/plain": [
       "'EDWIN'"
      ]
     },
     "execution_count": 24,
     "metadata": {},
     "output_type": "execute_result"
    }
   ],
   "source": [
    "# Mayúsculas\n",
    "nombre.upper()"
   ]
  },
  {
   "cell_type": "code",
   "execution_count": 25,
   "metadata": {},
   "outputs": [
    {
     "data": {
      "text/plain": [
       "'edwin'"
      ]
     },
     "execution_count": 25,
     "metadata": {},
     "output_type": "execute_result"
    }
   ],
   "source": [
    "# Minúsculas\n",
    "nombre.lower()"
   ]
  },
  {
   "cell_type": "code",
   "execution_count": 23,
   "metadata": {},
   "outputs": [
    {
     "data": {
      "text/plain": [
       "'Edwin'"
      ]
     },
     "execution_count": 23,
     "metadata": {},
     "output_type": "execute_result"
    }
   ],
   "source": [
    "# Titulo: cada palabra en mayúcula\n",
    "nombre.title()"
   ]
  },
  {
   "cell_type": "code",
   "execution_count": 29,
   "metadata": {},
   "outputs": [
    {
     "data": {
      "text/plain": [
       "2"
      ]
     },
     "execution_count": 29,
     "metadata": {},
     "output_type": "execute_result"
    }
   ],
   "source": [
    "# Contar la cantidad de veces que se repite un caracter\n",
    "apellido.count(\"a\")"
   ]
  },
  {
   "cell_type": "code",
   "execution_count": 34,
   "metadata": {},
   "outputs": [
    {
     "data": {
      "text/plain": [
       "False"
      ]
     },
     "execution_count": 34,
     "metadata": {},
     "output_type": "execute_result"
    }
   ],
   "source": [
    "# Comprobar si la palabra comienza por cierto caracter\n",
    "apellido.startswith(\"a\")"
   ]
  },
  {
   "cell_type": "code",
   "execution_count": 33,
   "metadata": {},
   "outputs": [
    {
     "data": {
      "text/plain": [
       "True"
      ]
     },
     "execution_count": 33,
     "metadata": {},
     "output_type": "execute_result"
    }
   ],
   "source": [
    "# Comprobar si la palabra termina por cierto caracter\n",
    "apellido.endswith(\"r\")"
   ]
  },
  {
   "cell_type": "code",
   "execution_count": 36,
   "metadata": {},
   "outputs": [
    {
     "name": "stdout",
     "output_type": "stream",
     "text": [
      "********Calcular el área de un triángulo**********\n",
      "El área del triángulo es:  17.5\n"
     ]
    }
   ],
   "source": [
    "# Ejercicio 2: Realizar un código para calcular el área de un triángulo e imprimir su resultado\n",
    "\n",
    "print(\"********Calcular el área de un triángulo**********\")\n",
    "base = 5\n",
    "altura = 7\n",
    "\n",
    "area = (base * altura) / 2\n",
    "\n",
    "print(\"El área del triángulo es: \", area)"
   ]
  },
  {
   "attachments": {},
   "cell_type": "markdown",
   "metadata": {},
   "source": [
    "## Función **_input_**\n",
    "______________________________________"
   ]
  },
  {
   "cell_type": "code",
   "execution_count": 1,
   "metadata": {},
   "outputs": [
    {
     "name": "stdout",
     "output_type": "stream",
     "text": [
      "Tu  edad duplicada es:  40\n"
     ]
    }
   ],
   "source": [
    "edad = int(input(\"Ingresa tu edad\"))\n",
    "print(\"Tu  edad duplicada es: \", edad*2)"
   ]
  },
  {
   "cell_type": "code",
   "execution_count": 6,
   "metadata": {},
   "outputs": [
    {
     "name": "stdout",
     "output_type": "stream",
     "text": [
      "Los números ingresados son:  8.4  y 2.2\n",
      "La suma es:  10.600000000000001 \n",
      " La resta es:  6.2 \n",
      " La multiplicación es:  18.480000000000004\n",
      "La división es:  3.818181818181818\n"
     ]
    }
   ],
   "source": [
    "# Ejercicio 3: \n",
    "\"\"\"Crear 2 variables y asignarles valores flotantes (decimales) e imprimir la suma, resta, \n",
    "multiplicación, división\"\"\"\n",
    "\n",
    "numero1 = float(input(\"Ingresa el primer número: \"))\n",
    "numero2 = float(input(\"Ingresa el segundo número: \"))\n",
    "\n",
    "print(\"Los números ingresados son: \", numero1 , \" y\", numero2)\n",
    "\n",
    "print(\"La suma es: \", numero1 + numero2, \"\\n\", \"La resta es: \", numero1 - numero2, \"\\n\", \"La multiplicación es: \", numero1 * numero2)\n",
    "print(\"La división es: \", numero1 / numero2)"
   ]
  }
 ],
 "metadata": {
  "kernelspec": {
   "display_name": "Python 3",
   "language": "python",
   "name": "python3"
  },
  "language_info": {
   "codemirror_mode": {
    "name": "ipython",
    "version": 3
   },
   "file_extension": ".py",
   "mimetype": "text/x-python",
   "name": "python",
   "nbconvert_exporter": "python",
   "pygments_lexer": "ipython3",
   "version": "3.10.10"
  },
  "orig_nbformat": 4
 },
 "nbformat": 4,
 "nbformat_minor": 2
}
